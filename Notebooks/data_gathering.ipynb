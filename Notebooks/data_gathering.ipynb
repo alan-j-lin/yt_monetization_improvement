{
 "cells": [
  {
   "cell_type": "code",
   "execution_count": 1,
   "metadata": {
    "ExecuteTime": {
     "end_time": "2018-09-08T22:01:33.695857Z",
     "start_time": "2018-09-08T22:01:32.527455Z"
    }
   },
   "outputs": [],
   "source": [
    "import glob\n",
    "from demonetization import Segment, create_df, create_segment\n",
    "from data_gathering_functions import rip_video, generate_captions, segment_audio"
   ]
  },
  {
   "cell_type": "code",
   "execution_count": 2,
   "metadata": {
    "ExecuteTime": {
     "end_time": "2018-09-08T22:01:34.898922Z",
     "start_time": "2018-09-08T22:01:34.892385Z"
    }
   },
   "outputs": [],
   "source": [
    "youtube_playlists = {\n",
    "    'wattsthesafeword': 'https://www.youtube.com/watch?v=ra3mROf41XQ&list=UUokRyLsHxh-NykvT4uA6n2g',\n",
    "    'hannahwitton': 'https://www.youtube.com/watch?v=SSYdKcXj3GM&list=PL9F1F564D609CBD67',\n",
    "    'sexplanations': 'https://www.youtube.com/watch?v=xFOeQDJjSos&list=UUkxMlA7rt-mnIc1AjbyAsPw',\n",
    "    'comecurious': 'https://www.youtube.com/watch?v=ifj085zjXmI&list=UUIRoo9Lsz1DOXRIvEo-UARQ',\n",
    "    'shanboody': 'https://www.youtube.com/watch?v=mZzCGof8x-M&list=UUR1aFO8kPS2WgdOfvU0zpag',\n",
    "    'briaandchrissy': 'https://www.youtube.com/watch?v=2gPqDCsztLY&list=UU0mjkSKz9oMZJJmzNbXAwWA',\n",
    "    'uppercasechase': 'https://www.youtube.com/watch?v=INW2KNbCUt4&list=UURj7HXvKV3AXGTbGeOX5Wzw',\n",
    "    'ashhardell': 'https://www.youtube.com/watch?v=wV0vQPE_qyk&list=UUXwXB7a3cq9AERiWF4-dK9g',\n",
    "    'stevieboebie': 'https://www.youtube.com/watch?v=h_EF2LkQSJQ&list=UUn_5GhTJXWOTVPbiFzksEDA',\n",
    "    'arifitz': 'https://www.youtube.com/watch?v=Koq_WwRLB2Q&list=UUPvHfZ4tmjeBXo8cIpv60vg'   \n",
    "}"
   ]
  },
  {
   "cell_type": "code",
   "execution_count": null,
   "metadata": {},
   "outputs": [],
   "source": [
    "time_per_segment = 30\n",
    "cutoff = 10\n",
    "segment_folder = '../yt_segments'\n",
    "vid_output = 'yt'\n",
    "vid_links = youtube_playlists\n",
    "write_transcript = True\n",
    "playlist_start = 1\n",
    "playlist_end = 10\n",
    "\n",
    "for url in vid_links:\n",
    "    rip_video(url, vid_output, write_transcript, playlist_start, playlist_end)\n",
    "\n",
    "yt_list = []\n",
    "if video_type = 'youtube':\n",
    "    for path in glob(f'{vid_output}/*.mp3'):\n",
    "        vtt_path = path.split('.')[0] + '.vtt'\n",
    "        video_infos = segment_audio(path, time_per_segment, cutoff, segment_folder)\n",
    "        video_captions = generate_captions(vtt_path, time_per_segment, cutoff)\n",
    "        for vid_info, vid_caption in zip(video_infos, video_captions):\n",
    "            yt_list.extend(create_segment(f'{segment_folder}/{vid_info[0}', vid_info, vid_caption))\n",
    "            \n",
    "yt_df = create_df(yt_list, 0)\n",
    "yt_df.to_pickle('yt_df.pkl')"
   ]
  }
 ],
 "metadata": {
  "kernelspec": {
   "display_name": "Python 3",
   "language": "python",
   "name": "python3"
  },
  "language_info": {
   "codemirror_mode": {
    "name": "ipython",
    "version": 3
   },
   "file_extension": ".py",
   "mimetype": "text/x-python",
   "name": "python",
   "nbconvert_exporter": "python",
   "pygments_lexer": "ipython3",
   "version": "3.6.5"
  },
  "varInspector": {
   "cols": {
    "lenName": 16,
    "lenType": 16,
    "lenVar": 40
   },
   "kernels_config": {
    "python": {
     "delete_cmd_postfix": "",
     "delete_cmd_prefix": "del ",
     "library": "var_list.py",
     "varRefreshCmd": "print(var_dic_list())"
    },
    "r": {
     "delete_cmd_postfix": ") ",
     "delete_cmd_prefix": "rm(",
     "library": "var_list.r",
     "varRefreshCmd": "cat(var_dic_list()) "
    }
   },
   "types_to_exclude": [
    "module",
    "function",
    "builtin_function_or_method",
    "instance",
    "_Feature"
   ],
   "window_display": false
  }
 },
 "nbformat": 4,
 "nbformat_minor": 2
}
